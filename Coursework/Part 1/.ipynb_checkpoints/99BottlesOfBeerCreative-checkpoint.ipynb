{
 "cells": [
  {
   "cell_type": "code",
   "execution_count": 3,
   "metadata": {},
   "outputs": [
    {
     "ename": "TypeError",
     "evalue": "'module' object is not callable",
     "output_type": "error",
     "traceback": [
      "\u001b[1;31m---------------------------------------------------------------------------\u001b[0m",
      "\u001b[1;31mTypeError\u001b[0m                                 Traceback (most recent call last)",
      "\u001b[1;32m<ipython-input-3-c73f4c9467c3>\u001b[0m in \u001b[0;36m<module>\u001b[1;34m\u001b[0m\n\u001b[0;32m      4\u001b[0m \u001b[1;32mimport\u001b[0m \u001b[0mre\u001b[0m\u001b[1;33m,\u001b[0m \u001b[0murllib\u001b[0m\u001b[1;33m\u001b[0m\u001b[1;33m\u001b[0m\u001b[0m\n\u001b[0;32m      5\u001b[0m print(re.sub('</p>', '', re.sub('<br>|<p>|<br/> |<br/>','\\n', re.sub('No', '\\nNo', \n\u001b[1;32m----> 6\u001b[1;33m urllib.request('http://www.99-bottles-of-beer.net/lyrics.html').read()[3516:16297]))))\n\u001b[0m",
      "\u001b[1;31mTypeError\u001b[0m: 'module' object is not callable"
     ]
    }
   ],
   "source": [
    "'''A more interesting way to get the lyrics to \"99 Bottles of Beer on the Wall\", in Python.\n",
    "Is this considered cheating?'''\n",
    "              \n",
    "import re, urllib\n",
    "print(re.sub('</p>', '', re.sub('<br>|<p>|<br/> |<br/>','\\n', re.sub('No', '\\nNo', \n",
    "urllib.request.urlopen('http://www.99-bottles-of-beer.net/lyrics.html').read()[3516:16297]))))"
   ]
  },
  {
   "cell_type": "code",
   "execution_count": null,
   "metadata": {},
   "outputs": [],
   "source": []
  }
 ],
 "metadata": {
  "kernelspec": {
   "display_name": "Python 3",
   "language": "python",
   "name": "python3"
  },
  "language_info": {
   "codemirror_mode": {
    "name": "ipython",
    "version": 3
   },
   "file_extension": ".py",
   "mimetype": "text/x-python",
   "name": "python",
   "nbconvert_exporter": "python",
   "pygments_lexer": "ipython3",
   "version": "3.7.3"
  }
 },
 "nbformat": 4,
 "nbformat_minor": 2
}
