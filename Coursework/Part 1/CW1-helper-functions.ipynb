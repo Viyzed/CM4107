{
 "cells": [
  {
   "cell_type": "markdown",
   "metadata": {},
   "source": [
    "## Helper functions for CW1\n",
    "Code provided in this notebook can be copied over to your python notebooks as required. "
   ]
  },
  {
   "cell_type": "code",
   "execution_count": 1,
   "metadata": {},
   "outputs": [],
   "source": [
    "# imports\n",
    "import numpy as np\n",
    "#for the sigmoid function we need expit() from scipy\n",
    "import scipy.special\n",
    "import os\n",
    "# helper to load data from PNG image files# helpe \n",
    "import imageio\n",
    "# glob helps select multiple files using patterns\n",
    "import glob\n",
    "# helps to manipulate the image for rotation \n",
    "from scipy import ndimage\n",
    "%matplotlib inline\n",
    "import matplotlib.pyplot as plt"
   ]
  },
  {
   "cell_type": "markdown",
   "metadata": {},
   "source": [
    "# Task 1.3"
   ]
  },
  {
   "cell_type": "markdown",
   "metadata": {},
   "source": [
    "## Helper function to create a new image by rotating a given image\n",
    "\n",
    "The rotate_image function accepts inputs of size 784 corresponding to a single digit. It then reshapes it to 28*28 image before rotating clockwise and anticlockwise by a given degree. Thereafter returns both newwly created versions of the digit. \n",
    "You will be able to use this in Task 1.3 to create new training data to test ANN and / or kNN.\n",
    "Remember when using this function to insert new training instances you must ensure that the class label is inserted to the corresponding targets array; otherwise you will not be able to use the new data within your machine learning algorithms when for instance training the ANN:\n",
    "n = neuralNetwork(input_nodes, hidden_nodes, output_nodes, learning_rate, batch_size, epochs)\n",
    "n.train(X_train, y_train)\n",
    "\n",
    "OR when initialising the kNN with the augmented train data and class labels:\n",
    "kNN(X_train, Y_train) functions.\n"
   ]
  },
  {
   "cell_type": "code",
   "execution_count": 2,
   "metadata": {},
   "outputs": [],
   "source": [
    "from scipy import ndimage"
   ]
  },
  {
   "cell_type": "code",
   "execution_count": 5,
   "metadata": {},
   "outputs": [],
   "source": [
    "def rotate_image(inputs, degree):\n",
    "  \n",
    "    ## create rotated variations\n",
    "    # rotated anticlockwise by x degrees\n",
    "    inputs_plusx_img = scipy.ndimage.interpolation.rotate(inputs.reshape(28,28), degree, cval=0.01, order=1, reshape=False)\n",
    "    new_inputs1 = inputs_plusx_img.reshape(784)\n",
    "    # rotated clockwise by x degrees\n",
    "    inputs_minusx_img = scipy.ndimage.interpolation.rotate(inputs.reshape(28,28), -degree, cval=0.01, order=1, reshape=False)\n",
    "    new_inputs2 = inputs_minusx_img.reshape(784)\n",
    "    \n",
    "    return (new_inputs1, new_inputs2)\n",
    "\n"
   ]
  },
  {
   "cell_type": "code",
   "execution_count": 10,
   "metadata": {},
   "outputs": [
    {
     "ename": "IndexError",
     "evalue": "list index out of range",
     "output_type": "error",
     "traceback": [
      "\u001b[1;31m---------------------------------------------------------------------------\u001b[0m",
      "\u001b[1;31mIndexError\u001b[0m                                Traceback (most recent call last)",
      "\u001b[1;32m<ipython-input-10-81bdcc18c57a>\u001b[0m in \u001b[0;36m<module>\u001b[1;34m\u001b[0m\n\u001b[0;32m      1\u001b[0m \u001b[1;31m#rotate an image by a given degree\u001b[0m\u001b[1;33m\u001b[0m\u001b[1;33m\u001b[0m\u001b[1;33m\u001b[0m\u001b[0m\n\u001b[0;32m      2\u001b[0m \u001b[0mdegree\u001b[0m \u001b[1;33m=\u001b[0m \u001b[1;36m50\u001b[0m\u001b[1;33m\u001b[0m\u001b[1;33m\u001b[0m\u001b[0m\n\u001b[1;32m----> 3\u001b[1;33m \u001b[0minstance\u001b[0m \u001b[1;33m=\u001b[0m \u001b[0mX_my_test\u001b[0m\u001b[1;33m[\u001b[0m\u001b[1;36m3\u001b[0m\u001b[1;33m]\u001b[0m\u001b[1;33m\u001b[0m\u001b[1;33m\u001b[0m\u001b[0m\n\u001b[0m\u001b[0;32m      4\u001b[0m \u001b[1;31m#print(instance.reshape(28,28))\u001b[0m\u001b[1;33m\u001b[0m\u001b[1;33m\u001b[0m\u001b[1;33m\u001b[0m\u001b[0m\n\u001b[0;32m      5\u001b[0m \u001b[0mnew_image1\u001b[0m\u001b[1;33m,\u001b[0m \u001b[0mnew_image2\u001b[0m \u001b[1;33m=\u001b[0m \u001b[0mrotate_image\u001b[0m\u001b[1;33m(\u001b[0m\u001b[0minstance\u001b[0m\u001b[1;33m,\u001b[0m \u001b[0mdegree\u001b[0m\u001b[1;33m)\u001b[0m\u001b[1;33m\u001b[0m\u001b[1;33m\u001b[0m\u001b[0m\n",
      "\u001b[1;31mIndexError\u001b[0m: list index out of range"
     ]
    }
   ],
   "source": [
    "#rotate an image by a given degree\n",
    "degree = 50\n",
    "instance = X_my_test[3]\n",
    "#print(instance.reshape(28,28))\n",
    "new_image1, new_image2 = rotate_image(instance, degree)\n",
    "# show rotated image\n",
    "image_array = np.asfarray(new_image1).flatten().reshape((28,28))\n",
    "# print the grid in grey scale\n",
    "plt.imshow(image_array, cmap='Greys', interpolation='None') "
   ]
  },
  {
   "cell_type": "markdown",
   "metadata": {},
   "source": [
    "# Task 1.4\n",
    "For kNN you need to use get_my_test_data to load and convert your handwritten digits for the algorithm. \n",
    "\n",
    "For ANN you need to use both get_my_test_data and map_target_to_output_layer to load and convert your handwritten digits for the algorithm. "
   ]
  },
  {
   "cell_type": "markdown",
   "metadata": {},
   "source": [
    "### Helper function for loading your hand written digits\n",
    "In Task 1.4 you will be creating png files of your own handwritten digits and exploring how your algorithms perform when classifying these. \n",
    "\n",
    "The get_my_test_images function below takes a relative path as an input parameter and reads all the *.png files that are there. It then looks at the character just before the extension '.png' and considers this char as the class label. \n",
    "\n",
    "So for instance if you had an image called ../my_images/my_char_paper_9.png then it will extract 9 and use that as the class label. \n",
    "Therefore if you wish to use the function below make sure that the class of the digit appears just before the extension of the image file. Ensure that all your images are in a subfolder such as 'my_images'\n",
    "\n",
    "Note that the returned X and y from this function is already in the format that will be acceptable for kNN's test function. However to use it on ANN you need to further process the class labels (i.e. y) such that they are aligned to the output nodes. For this , we have also provided a further function below:\n",
    "helper_function_ann(X, Y)"
   ]
  },
  {
   "cell_type": "code",
   "execution_count": 7,
   "metadata": {},
   "outputs": [],
   "source": [
    "def get_my_test_data(folder):\n",
    "    # our own image test data set\n",
    "    X = []\n",
    "    y = []\n",
    "    \n",
    "    # to read jpg change the regex to '/*.jpg'\n",
    "    folder_expr = folder + '/*.png'\n",
    "    print(folder_expr)\n",
    "\n",
    "    for image_file_name in glob.glob(folder_expr): \n",
    "        print (\"loading ... \", image_file_name)\n",
    "\n",
    "        # load image data from png files into an array\n",
    "        img_array = imageio.imread(image_file_name, as_gray=True)\n",
    "        # reshape from 28x28 to list of 784 values, invert values\n",
    "        img_data  = 255.0 - img_array.reshape(784)\n",
    "        # then scale data to range from 0.01 to 1.0\n",
    "        inputs = (img_data / 255.0 * 0.99) + 0.01\n",
    "        \n",
    "        # use the filename to set the correct label\n",
    "        digit_class = int(image_file_name[-5:-4]) #negative indices for indexing from the end of the array\n",
    "        \n",
    "        X.insert(len(X), inputs)\n",
    "        y.insert(len(y), digit_class)\n",
    "       \n",
    "        pass\n",
    "    return(X,y)\n",
    "pass"
   ]
  },
  {
   "cell_type": "code",
   "execution_count": 8,
   "metadata": {
    "scrolled": true
   },
   "outputs": [
    {
     "name": "stdout",
     "output_type": "stream",
     "text": [
      "my_images/*.png\n"
     ]
    },
    {
     "ename": "IndexError",
     "evalue": "list index out of range",
     "output_type": "error",
     "traceback": [
      "\u001b[1;31m---------------------------------------------------------------------------\u001b[0m",
      "\u001b[1;31mIndexError\u001b[0m                                Traceback (most recent call last)",
      "\u001b[1;32m<ipython-input-8-7c6b3ae4433a>\u001b[0m in \u001b[0;36m<module>\u001b[1;34m\u001b[0m\n\u001b[0;32m      4\u001b[0m \u001b[1;31m# now reshape the 784 features into a 28x28 grid\u001b[0m\u001b[1;33m\u001b[0m\u001b[1;33m\u001b[0m\u001b[1;33m\u001b[0m\u001b[0m\n\u001b[0;32m      5\u001b[0m \u001b[1;31m# here asfarray helps to convert values into real numbers\u001b[0m\u001b[1;33m\u001b[0m\u001b[1;33m\u001b[0m\u001b[1;33m\u001b[0m\u001b[0m\n\u001b[1;32m----> 6\u001b[1;33m \u001b[0mimage_array\u001b[0m \u001b[1;33m=\u001b[0m \u001b[0mnp\u001b[0m\u001b[1;33m.\u001b[0m\u001b[0masfarray\u001b[0m\u001b[1;33m(\u001b[0m\u001b[0mX_my_test\u001b[0m\u001b[1;33m[\u001b[0m\u001b[1;36m4\u001b[0m\u001b[1;33m]\u001b[0m\u001b[1;33m)\u001b[0m\u001b[1;33m.\u001b[0m\u001b[0mflatten\u001b[0m\u001b[1;33m(\u001b[0m\u001b[1;33m)\u001b[0m\u001b[1;33m.\u001b[0m\u001b[0mreshape\u001b[0m\u001b[1;33m(\u001b[0m\u001b[1;33m(\u001b[0m\u001b[1;36m28\u001b[0m\u001b[1;33m,\u001b[0m\u001b[1;36m28\u001b[0m\u001b[1;33m)\u001b[0m\u001b[1;33m)\u001b[0m\u001b[1;33m\u001b[0m\u001b[1;33m\u001b[0m\u001b[0m\n\u001b[0m\u001b[0;32m      7\u001b[0m \u001b[1;33m\u001b[0m\u001b[0m\n\u001b[0;32m      8\u001b[0m \u001b[1;31m# print the grid in grey scale\u001b[0m\u001b[1;33m\u001b[0m\u001b[1;33m\u001b[0m\u001b[1;33m\u001b[0m\u001b[0m\n",
      "\u001b[1;31mIndexError\u001b[0m: list index out of range"
     ]
    }
   ],
   "source": [
    "X_my_test, y_my_test = get_my_test_data('my_images') # my_images is a subfolder in the current folder \n",
    "\n",
    "# lets plot one of the created images that was read into X_my_test\n",
    "# now reshape the 784 features into a 28x28 grid\n",
    "# here asfarray helps to convert values into real numbers\n",
    "image_array = np.asfarray(X_my_test[4]).flatten().reshape((28,28))\n",
    "\n",
    "# print the grid in grey scale\n",
    "plt.imshow(image_array, cmap='Greys', interpolation='None') "
   ]
  },
  {
   "cell_type": "markdown",
   "metadata": {},
   "source": [
    "### Helper function to prepare my image test data for ANN\n",
    "\n",
    "Specific functions to convert the data into the input and output format that is suited for the ANN class (in ANN.ipynb).\n",
    "Here the class label value needs to be maped in to a format aligned to the output_nodes layer."
   ]
  },
  {
   "cell_type": "code",
   "execution_count": 9,
   "metadata": {},
   "outputs": [
    {
     "name": "stdout",
     "output_type": "stream",
     "text": [
      "my_images/*.png\n"
     ]
    }
   ],
   "source": [
    "#MNIST dataset assume output_nodes = 10 for the ANN\n",
    "\n",
    "# converts the data to a format that the ANN class can use for training the model\n",
    "# this eseentially , maps a given target class label to an outputs vector (y_vec) thats compatible \n",
    "# with the ANN's output layer. \n",
    "def map_target_to_output_layer(instances, targets):\n",
    "    X=[]\n",
    "    Y=[]\n",
    "    for inputs, target in zip(instances, targets):\n",
    "        # create the target output values (all 0.01, except the desired label which is 0.99)\n",
    "        y_vec = np.zeros(output_nodes) + 0.01\n",
    "        y_vec[int(target)] = 0.99\n",
    "        #print('output', target)\n",
    "        \n",
    "        X.insert(len(X), inputs) # simply inserting these they are already in the correct format\n",
    "        Y.insert(len(Y), y_vec) # inserting these after the vector mapping\n",
    "    pass\n",
    "    return(X,Y)\n",
    "pass\n",
    "\n",
    "X_my_test, y_my_test = get_my_test_data('my_images')\n",
    "X_my_test, y_my_test = map_target_to_output_layer(X_my_test, y_my_test)"
   ]
  },
  {
   "cell_type": "code",
   "execution_count": null,
   "metadata": {},
   "outputs": [],
   "source": []
  }
 ],
 "metadata": {
  "kernelspec": {
   "display_name": "Python 3",
   "language": "python",
   "name": "python3"
  },
  "language_info": {
   "codemirror_mode": {
    "name": "ipython",
    "version": 3
   },
   "file_extension": ".py",
   "mimetype": "text/x-python",
   "name": "python",
   "nbconvert_exporter": "python",
   "pygments_lexer": "ipython3",
   "version": "3.7.3"
  }
 },
 "nbformat": 4,
 "nbformat_minor": 2
}
